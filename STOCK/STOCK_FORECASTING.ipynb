{
  "cells": [
    {
      "cell_type": "code",
      "execution_count": 1,
      "id": "bf73623a",
      "metadata": {
        "_cell_guid": "b1076dfc-b9ad-4769-8c92-a6c4dae69d19",
        "_uuid": "8f2839f25d086af736a60e9eeb907d3b93b6e0e5",
        "execution": {
          "iopub.execute_input": "2023-01-30T15:48:37.060943Z",
          "iopub.status.busy": "2023-01-30T15:48:37.060288Z",
          "iopub.status.idle": "2023-01-30T15:48:39.441277Z",
          "shell.execute_reply": "2023-01-30T15:48:39.439453Z"
        },
        "papermill": {
          "duration": 2.394129,
          "end_time": "2023-01-30T15:48:39.444371",
          "exception": false,
          "start_time": "2023-01-30T15:48:37.050242",
          "status": "completed"
        },
        "tags": [],
        "id": "bf73623a"
      },
      "outputs": [],
      "source": [
        "import pandas as pd\n",
        "import numpy as np\n",
        "import matplotlib.pyplot as plt\n",
        "import plotly.express as px\n",
        "import plotly.graph_objects as go\n",
        "from sklearn.model_selection import train_test_split\n",
        "from sklearn.metrics import r2_score\n",
        "from sklearn.linear_model import LinearRegression\n",
        "import random\n",
        "from sklearn.metrics import mean_squared_error, r2_score, mean_absolute_error"
      ]
    },
    {
      "cell_type": "markdown",
      "id": "5d80e0e3",
      "metadata": {
        "papermill": {
          "duration": 0.006143,
          "end_time": "2023-01-30T15:48:39.457236",
          "exception": false,
          "start_time": "2023-01-30T15:48:39.451093",
          "status": "completed"
        },
        "tags": [],
        "id": "5d80e0e3"
      },
      "source": [
        "****Read the data ****"
      ]
    },
    {
      "cell_type": "code",
      "execution_count": 8,
      "id": "33eebd68",
      "metadata": {
        "execution": {
          "iopub.execute_input": "2023-01-30T15:48:39.473370Z",
          "iopub.status.busy": "2023-01-30T15:48:39.472910Z",
          "iopub.status.idle": "2023-01-30T15:48:39.503601Z",
          "shell.execute_reply": "2023-01-30T15:48:39.502234Z"
        },
        "papermill": {
          "duration": 0.042315,
          "end_time": "2023-01-30T15:48:39.506304",
          "exception": false,
          "start_time": "2023-01-30T15:48:39.463989",
          "status": "completed"
        },
        "tags": [],
        "id": "33eebd68"
      },
      "outputs": [],
      "source": [
        "df=pd.read_csv('STOCK PREDICTION.csv')"
      ]
    },
    {
      "cell_type": "code",
      "execution_count": 9,
      "id": "38b551af",
      "metadata": {
        "execution": {
          "iopub.execute_input": "2023-01-30T15:48:39.521757Z",
          "iopub.status.busy": "2023-01-30T15:48:39.521337Z",
          "iopub.status.idle": "2023-01-30T15:48:39.546276Z",
          "shell.execute_reply": "2023-01-30T15:48:39.544952Z"
        },
        "papermill": {
          "duration": 0.036336,
          "end_time": "2023-01-30T15:48:39.549267",
          "exception": false,
          "start_time": "2023-01-30T15:48:39.512931",
          "status": "completed"
        },
        "tags": [],
        "id": "38b551af",
        "colab": {
          "base_uri": "https://localhost:8080/",
          "height": 206
        },
        "outputId": "b01bdaa8-4c3d-4830-ce72-4d1f2b2b5502"
      },
      "outputs": [
        {
          "output_type": "execute_result",
          "data": {
            "text/plain": [
              "         Date       Open       High        Low      Close  Adj Close  \\\n",
              "0  2013-01-02  19.779285  19.821428  19.343929  19.608213  16.862818   \n",
              "1  2013-01-03  19.567142  19.631071  19.321428  19.360714  16.649981   \n",
              "2  2013-01-04  19.177500  19.236786  18.779642  18.821428  16.186199   \n",
              "3  2013-01-07  18.642857  18.903570  18.400000  18.710714  16.090986   \n",
              "4  2013-01-08  18.900356  18.996071  18.616072  18.761070  16.134293   \n",
              "\n",
              "      Volume  \n",
              "0  560518000  \n",
              "1  352965200  \n",
              "2  594333600  \n",
              "3  484156400  \n",
              "4  458707200  "
            ],
            "text/html": [
              "\n",
              "  <div id=\"df-66c3298e-0fa2-4fd5-bda6-35cb6fc0bbde\">\n",
              "    <div class=\"colab-df-container\">\n",
              "      <div>\n",
              "<style scoped>\n",
              "    .dataframe tbody tr th:only-of-type {\n",
              "        vertical-align: middle;\n",
              "    }\n",
              "\n",
              "    .dataframe tbody tr th {\n",
              "        vertical-align: top;\n",
              "    }\n",
              "\n",
              "    .dataframe thead th {\n",
              "        text-align: right;\n",
              "    }\n",
              "</style>\n",
              "<table border=\"1\" class=\"dataframe\">\n",
              "  <thead>\n",
              "    <tr style=\"text-align: right;\">\n",
              "      <th></th>\n",
              "      <th>Date</th>\n",
              "      <th>Open</th>\n",
              "      <th>High</th>\n",
              "      <th>Low</th>\n",
              "      <th>Close</th>\n",
              "      <th>Adj Close</th>\n",
              "      <th>Volume</th>\n",
              "    </tr>\n",
              "  </thead>\n",
              "  <tbody>\n",
              "    <tr>\n",
              "      <th>0</th>\n",
              "      <td>2013-01-02</td>\n",
              "      <td>19.779285</td>\n",
              "      <td>19.821428</td>\n",
              "      <td>19.343929</td>\n",
              "      <td>19.608213</td>\n",
              "      <td>16.862818</td>\n",
              "      <td>560518000</td>\n",
              "    </tr>\n",
              "    <tr>\n",
              "      <th>1</th>\n",
              "      <td>2013-01-03</td>\n",
              "      <td>19.567142</td>\n",
              "      <td>19.631071</td>\n",
              "      <td>19.321428</td>\n",
              "      <td>19.360714</td>\n",
              "      <td>16.649981</td>\n",
              "      <td>352965200</td>\n",
              "    </tr>\n",
              "    <tr>\n",
              "      <th>2</th>\n",
              "      <td>2013-01-04</td>\n",
              "      <td>19.177500</td>\n",
              "      <td>19.236786</td>\n",
              "      <td>18.779642</td>\n",
              "      <td>18.821428</td>\n",
              "      <td>16.186199</td>\n",
              "      <td>594333600</td>\n",
              "    </tr>\n",
              "    <tr>\n",
              "      <th>3</th>\n",
              "      <td>2013-01-07</td>\n",
              "      <td>18.642857</td>\n",
              "      <td>18.903570</td>\n",
              "      <td>18.400000</td>\n",
              "      <td>18.710714</td>\n",
              "      <td>16.090986</td>\n",
              "      <td>484156400</td>\n",
              "    </tr>\n",
              "    <tr>\n",
              "      <th>4</th>\n",
              "      <td>2013-01-08</td>\n",
              "      <td>18.900356</td>\n",
              "      <td>18.996071</td>\n",
              "      <td>18.616072</td>\n",
              "      <td>18.761070</td>\n",
              "      <td>16.134293</td>\n",
              "      <td>458707200</td>\n",
              "    </tr>\n",
              "  </tbody>\n",
              "</table>\n",
              "</div>\n",
              "      <button class=\"colab-df-convert\" onclick=\"convertToInteractive('df-66c3298e-0fa2-4fd5-bda6-35cb6fc0bbde')\"\n",
              "              title=\"Convert this dataframe to an interactive table.\"\n",
              "              style=\"display:none;\">\n",
              "        \n",
              "  <svg xmlns=\"http://www.w3.org/2000/svg\" height=\"24px\"viewBox=\"0 0 24 24\"\n",
              "       width=\"24px\">\n",
              "    <path d=\"M0 0h24v24H0V0z\" fill=\"none\"/>\n",
              "    <path d=\"M18.56 5.44l.94 2.06.94-2.06 2.06-.94-2.06-.94-.94-2.06-.94 2.06-2.06.94zm-11 1L8.5 8.5l.94-2.06 2.06-.94-2.06-.94L8.5 2.5l-.94 2.06-2.06.94zm10 10l.94 2.06.94-2.06 2.06-.94-2.06-.94-.94-2.06-.94 2.06-2.06.94z\"/><path d=\"M17.41 7.96l-1.37-1.37c-.4-.4-.92-.59-1.43-.59-.52 0-1.04.2-1.43.59L10.3 9.45l-7.72 7.72c-.78.78-.78 2.05 0 2.83L4 21.41c.39.39.9.59 1.41.59.51 0 1.02-.2 1.41-.59l7.78-7.78 2.81-2.81c.8-.78.8-2.07 0-2.86zM5.41 20L4 18.59l7.72-7.72 1.47 1.35L5.41 20z\"/>\n",
              "  </svg>\n",
              "      </button>\n",
              "      \n",
              "  <style>\n",
              "    .colab-df-container {\n",
              "      display:flex;\n",
              "      flex-wrap:wrap;\n",
              "      gap: 12px;\n",
              "    }\n",
              "\n",
              "    .colab-df-convert {\n",
              "      background-color: #E8F0FE;\n",
              "      border: none;\n",
              "      border-radius: 50%;\n",
              "      cursor: pointer;\n",
              "      display: none;\n",
              "      fill: #1967D2;\n",
              "      height: 32px;\n",
              "      padding: 0 0 0 0;\n",
              "      width: 32px;\n",
              "    }\n",
              "\n",
              "    .colab-df-convert:hover {\n",
              "      background-color: #E2EBFA;\n",
              "      box-shadow: 0px 1px 2px rgba(60, 64, 67, 0.3), 0px 1px 3px 1px rgba(60, 64, 67, 0.15);\n",
              "      fill: #174EA6;\n",
              "    }\n",
              "\n",
              "    [theme=dark] .colab-df-convert {\n",
              "      background-color: #3B4455;\n",
              "      fill: #D2E3FC;\n",
              "    }\n",
              "\n",
              "    [theme=dark] .colab-df-convert:hover {\n",
              "      background-color: #434B5C;\n",
              "      box-shadow: 0px 1px 3px 1px rgba(0, 0, 0, 0.15);\n",
              "      filter: drop-shadow(0px 1px 2px rgba(0, 0, 0, 0.3));\n",
              "      fill: #FFFFFF;\n",
              "    }\n",
              "  </style>\n",
              "\n",
              "      <script>\n",
              "        const buttonEl =\n",
              "          document.querySelector('#df-66c3298e-0fa2-4fd5-bda6-35cb6fc0bbde button.colab-df-convert');\n",
              "        buttonEl.style.display =\n",
              "          google.colab.kernel.accessAllowed ? 'block' : 'none';\n",
              "\n",
              "        async function convertToInteractive(key) {\n",
              "          const element = document.querySelector('#df-66c3298e-0fa2-4fd5-bda6-35cb6fc0bbde');\n",
              "          const dataTable =\n",
              "            await google.colab.kernel.invokeFunction('convertToInteractive',\n",
              "                                                     [key], {});\n",
              "          if (!dataTable) return;\n",
              "\n",
              "          const docLinkHtml = 'Like what you see? Visit the ' +\n",
              "            '<a target=\"_blank\" href=https://colab.research.google.com/notebooks/data_table.ipynb>data table notebook</a>'\n",
              "            + ' to learn more about interactive tables.';\n",
              "          element.innerHTML = '';\n",
              "          dataTable['output_type'] = 'display_data';\n",
              "          await google.colab.output.renderOutput(dataTable, element);\n",
              "          const docLink = document.createElement('div');\n",
              "          docLink.innerHTML = docLinkHtml;\n",
              "          element.appendChild(docLink);\n",
              "        }\n",
              "      </script>\n",
              "    </div>\n",
              "  </div>\n",
              "  "
            ]
          },
          "metadata": {},
          "execution_count": 9
        }
      ],
      "source": [
        "df.head()"
      ]
    },
    {
      "cell_type": "code",
      "execution_count": 10,
      "id": "df31c8c2",
      "metadata": {
        "execution": {
          "iopub.execute_input": "2023-01-30T15:48:39.564851Z",
          "iopub.status.busy": "2023-01-30T15:48:39.564454Z",
          "iopub.status.idle": "2023-01-30T15:48:39.610044Z",
          "shell.execute_reply": "2023-01-30T15:48:39.608249Z"
        },
        "papermill": {
          "duration": 0.056831,
          "end_time": "2023-01-30T15:48:39.613048",
          "exception": false,
          "start_time": "2023-01-30T15:48:39.556217",
          "status": "completed"
        },
        "tags": [],
        "colab": {
          "base_uri": "https://localhost:8080/",
          "height": 300
        },
        "id": "df31c8c2",
        "outputId": "38594968-9462-4d45-f6dd-eda03d744189"
      },
      "outputs": [
        {
          "output_type": "execute_result",
          "data": {
            "text/plain": [
              "              Open         High          Low        Close    Adj Close  \\\n",
              "count  2518.000000  2518.000000  2518.000000  2518.000000  2518.000000   \n",
              "mean     62.383387    63.087693    61.696664    62.416599    60.637030   \n",
              "std      48.683035    49.322128    48.051043    48.709794    49.248659   \n",
              "min      13.856071    14.271429    13.753571    13.947500    12.064584   \n",
              "25%      26.971249    27.219376    26.705000    26.983750    24.676636   \n",
              "50%      41.353750    41.872500    40.888750    41.313750    39.511667   \n",
              "75%      91.272499    92.881876    90.824377    91.526875    90.122934   \n",
              "max     182.630005   182.940002   179.119995   182.009995   180.959732   \n",
              "\n",
              "             Volume  \n",
              "count  2.518000e+03  \n",
              "mean   1.713540e+08  \n",
              "std    1.250498e+08  \n",
              "min    3.519590e+07  \n",
              "25%    9.188698e+07  \n",
              "50%    1.301368e+08  \n",
              "75%    2.045116e+08  \n",
              "max    1.460852e+09  "
            ],
            "text/html": [
              "\n",
              "  <div id=\"df-e4ad8bda-bdea-403f-888d-21160498cf02\">\n",
              "    <div class=\"colab-df-container\">\n",
              "      <div>\n",
              "<style scoped>\n",
              "    .dataframe tbody tr th:only-of-type {\n",
              "        vertical-align: middle;\n",
              "    }\n",
              "\n",
              "    .dataframe tbody tr th {\n",
              "        vertical-align: top;\n",
              "    }\n",
              "\n",
              "    .dataframe thead th {\n",
              "        text-align: right;\n",
              "    }\n",
              "</style>\n",
              "<table border=\"1\" class=\"dataframe\">\n",
              "  <thead>\n",
              "    <tr style=\"text-align: right;\">\n",
              "      <th></th>\n",
              "      <th>Open</th>\n",
              "      <th>High</th>\n",
              "      <th>Low</th>\n",
              "      <th>Close</th>\n",
              "      <th>Adj Close</th>\n",
              "      <th>Volume</th>\n",
              "    </tr>\n",
              "  </thead>\n",
              "  <tbody>\n",
              "    <tr>\n",
              "      <th>count</th>\n",
              "      <td>2518.000000</td>\n",
              "      <td>2518.000000</td>\n",
              "      <td>2518.000000</td>\n",
              "      <td>2518.000000</td>\n",
              "      <td>2518.000000</td>\n",
              "      <td>2.518000e+03</td>\n",
              "    </tr>\n",
              "    <tr>\n",
              "      <th>mean</th>\n",
              "      <td>62.383387</td>\n",
              "      <td>63.087693</td>\n",
              "      <td>61.696664</td>\n",
              "      <td>62.416599</td>\n",
              "      <td>60.637030</td>\n",
              "      <td>1.713540e+08</td>\n",
              "    </tr>\n",
              "    <tr>\n",
              "      <th>std</th>\n",
              "      <td>48.683035</td>\n",
              "      <td>49.322128</td>\n",
              "      <td>48.051043</td>\n",
              "      <td>48.709794</td>\n",
              "      <td>49.248659</td>\n",
              "      <td>1.250498e+08</td>\n",
              "    </tr>\n",
              "    <tr>\n",
              "      <th>min</th>\n",
              "      <td>13.856071</td>\n",
              "      <td>14.271429</td>\n",
              "      <td>13.753571</td>\n",
              "      <td>13.947500</td>\n",
              "      <td>12.064584</td>\n",
              "      <td>3.519590e+07</td>\n",
              "    </tr>\n",
              "    <tr>\n",
              "      <th>25%</th>\n",
              "      <td>26.971249</td>\n",
              "      <td>27.219376</td>\n",
              "      <td>26.705000</td>\n",
              "      <td>26.983750</td>\n",
              "      <td>24.676636</td>\n",
              "      <td>9.188698e+07</td>\n",
              "    </tr>\n",
              "    <tr>\n",
              "      <th>50%</th>\n",
              "      <td>41.353750</td>\n",
              "      <td>41.872500</td>\n",
              "      <td>40.888750</td>\n",
              "      <td>41.313750</td>\n",
              "      <td>39.511667</td>\n",
              "      <td>1.301368e+08</td>\n",
              "    </tr>\n",
              "    <tr>\n",
              "      <th>75%</th>\n",
              "      <td>91.272499</td>\n",
              "      <td>92.881876</td>\n",
              "      <td>90.824377</td>\n",
              "      <td>91.526875</td>\n",
              "      <td>90.122934</td>\n",
              "      <td>2.045116e+08</td>\n",
              "    </tr>\n",
              "    <tr>\n",
              "      <th>max</th>\n",
              "      <td>182.630005</td>\n",
              "      <td>182.940002</td>\n",
              "      <td>179.119995</td>\n",
              "      <td>182.009995</td>\n",
              "      <td>180.959732</td>\n",
              "      <td>1.460852e+09</td>\n",
              "    </tr>\n",
              "  </tbody>\n",
              "</table>\n",
              "</div>\n",
              "      <button class=\"colab-df-convert\" onclick=\"convertToInteractive('df-e4ad8bda-bdea-403f-888d-21160498cf02')\"\n",
              "              title=\"Convert this dataframe to an interactive table.\"\n",
              "              style=\"display:none;\">\n",
              "        \n",
              "  <svg xmlns=\"http://www.w3.org/2000/svg\" height=\"24px\"viewBox=\"0 0 24 24\"\n",
              "       width=\"24px\">\n",
              "    <path d=\"M0 0h24v24H0V0z\" fill=\"none\"/>\n",
              "    <path d=\"M18.56 5.44l.94 2.06.94-2.06 2.06-.94-2.06-.94-.94-2.06-.94 2.06-2.06.94zm-11 1L8.5 8.5l.94-2.06 2.06-.94-2.06-.94L8.5 2.5l-.94 2.06-2.06.94zm10 10l.94 2.06.94-2.06 2.06-.94-2.06-.94-.94-2.06-.94 2.06-2.06.94z\"/><path d=\"M17.41 7.96l-1.37-1.37c-.4-.4-.92-.59-1.43-.59-.52 0-1.04.2-1.43.59L10.3 9.45l-7.72 7.72c-.78.78-.78 2.05 0 2.83L4 21.41c.39.39.9.59 1.41.59.51 0 1.02-.2 1.41-.59l7.78-7.78 2.81-2.81c.8-.78.8-2.07 0-2.86zM5.41 20L4 18.59l7.72-7.72 1.47 1.35L5.41 20z\"/>\n",
              "  </svg>\n",
              "      </button>\n",
              "      \n",
              "  <style>\n",
              "    .colab-df-container {\n",
              "      display:flex;\n",
              "      flex-wrap:wrap;\n",
              "      gap: 12px;\n",
              "    }\n",
              "\n",
              "    .colab-df-convert {\n",
              "      background-color: #E8F0FE;\n",
              "      border: none;\n",
              "      border-radius: 50%;\n",
              "      cursor: pointer;\n",
              "      display: none;\n",
              "      fill: #1967D2;\n",
              "      height: 32px;\n",
              "      padding: 0 0 0 0;\n",
              "      width: 32px;\n",
              "    }\n",
              "\n",
              "    .colab-df-convert:hover {\n",
              "      background-color: #E2EBFA;\n",
              "      box-shadow: 0px 1px 2px rgba(60, 64, 67, 0.3), 0px 1px 3px 1px rgba(60, 64, 67, 0.15);\n",
              "      fill: #174EA6;\n",
              "    }\n",
              "\n",
              "    [theme=dark] .colab-df-convert {\n",
              "      background-color: #3B4455;\n",
              "      fill: #D2E3FC;\n",
              "    }\n",
              "\n",
              "    [theme=dark] .colab-df-convert:hover {\n",
              "      background-color: #434B5C;\n",
              "      box-shadow: 0px 1px 3px 1px rgba(0, 0, 0, 0.15);\n",
              "      filter: drop-shadow(0px 1px 2px rgba(0, 0, 0, 0.3));\n",
              "      fill: #FFFFFF;\n",
              "    }\n",
              "  </style>\n",
              "\n",
              "      <script>\n",
              "        const buttonEl =\n",
              "          document.querySelector('#df-e4ad8bda-bdea-403f-888d-21160498cf02 button.colab-df-convert');\n",
              "        buttonEl.style.display =\n",
              "          google.colab.kernel.accessAllowed ? 'block' : 'none';\n",
              "\n",
              "        async function convertToInteractive(key) {\n",
              "          const element = document.querySelector('#df-e4ad8bda-bdea-403f-888d-21160498cf02');\n",
              "          const dataTable =\n",
              "            await google.colab.kernel.invokeFunction('convertToInteractive',\n",
              "                                                     [key], {});\n",
              "          if (!dataTable) return;\n",
              "\n",
              "          const docLinkHtml = 'Like what you see? Visit the ' +\n",
              "            '<a target=\"_blank\" href=https://colab.research.google.com/notebooks/data_table.ipynb>data table notebook</a>'\n",
              "            + ' to learn more about interactive tables.';\n",
              "          element.innerHTML = '';\n",
              "          dataTable['output_type'] = 'display_data';\n",
              "          await google.colab.output.renderOutput(dataTable, element);\n",
              "          const docLink = document.createElement('div');\n",
              "          docLink.innerHTML = docLinkHtml;\n",
              "          element.appendChild(docLink);\n",
              "        }\n",
              "      </script>\n",
              "    </div>\n",
              "  </div>\n",
              "  "
            ]
          },
          "metadata": {},
          "execution_count": 10
        }
      ],
      "source": [
        "df.describe()"
      ]
    },
    {
      "cell_type": "code",
      "execution_count": 11,
      "id": "9d130851",
      "metadata": {
        "execution": {
          "iopub.execute_input": "2023-01-30T15:48:39.629779Z",
          "iopub.status.busy": "2023-01-30T15:48:39.629341Z",
          "iopub.status.idle": "2023-01-30T15:48:39.649617Z",
          "shell.execute_reply": "2023-01-30T15:48:39.647426Z"
        },
        "papermill": {
          "duration": 0.032615,
          "end_time": "2023-01-30T15:48:39.653290",
          "exception": false,
          "start_time": "2023-01-30T15:48:39.620675",
          "status": "completed"
        },
        "tags": [],
        "colab": {
          "base_uri": "https://localhost:8080/"
        },
        "id": "9d130851",
        "outputId": "21d538e8-b2a6-4210-b95e-f6b0088d8950"
      },
      "outputs": [
        {
          "output_type": "stream",
          "name": "stdout",
          "text": [
            "<class 'pandas.core.frame.DataFrame'>\n",
            "RangeIndex: 2518 entries, 0 to 2517\n",
            "Data columns (total 7 columns):\n",
            " #   Column     Non-Null Count  Dtype  \n",
            "---  ------     --------------  -----  \n",
            " 0   Date       2518 non-null   object \n",
            " 1   Open       2518 non-null   float64\n",
            " 2   High       2518 non-null   float64\n",
            " 3   Low        2518 non-null   float64\n",
            " 4   Close      2518 non-null   float64\n",
            " 5   Adj Close  2518 non-null   float64\n",
            " 6   Volume     2518 non-null   int64  \n",
            "dtypes: float64(5), int64(1), object(1)\n",
            "memory usage: 137.8+ KB\n"
          ]
        }
      ],
      "source": [
        "df.info()"
      ]
    },
    {
      "cell_type": "code",
      "execution_count": 12,
      "id": "59817861",
      "metadata": {
        "execution": {
          "iopub.execute_input": "2023-01-30T15:48:39.670828Z",
          "iopub.status.busy": "2023-01-30T15:48:39.670316Z",
          "iopub.status.idle": "2023-01-30T15:48:39.678760Z",
          "shell.execute_reply": "2023-01-30T15:48:39.677472Z"
        },
        "papermill": {
          "duration": 0.01963,
          "end_time": "2023-01-30T15:48:39.681145",
          "exception": false,
          "start_time": "2023-01-30T15:48:39.661515",
          "status": "completed"
        },
        "tags": [],
        "colab": {
          "base_uri": "https://localhost:8080/"
        },
        "id": "59817861",
        "outputId": "4b75fd1c-da9e-406d-a336-9b4d6fdda7df"
      },
      "outputs": [
        {
          "output_type": "execute_result",
          "data": {
            "text/plain": [
              "Date          object\n",
              "Open         float64\n",
              "High         float64\n",
              "Low          float64\n",
              "Close        float64\n",
              "Adj Close    float64\n",
              "Volume         int64\n",
              "dtype: object"
            ]
          },
          "metadata": {},
          "execution_count": 12
        }
      ],
      "source": [
        "df.dtypes"
      ]
    },
    {
      "cell_type": "code",
      "execution_count": 13,
      "id": "69a60787",
      "metadata": {
        "execution": {
          "iopub.execute_input": "2023-01-30T15:48:39.697176Z",
          "iopub.status.busy": "2023-01-30T15:48:39.696780Z",
          "iopub.status.idle": "2023-01-30T15:48:39.709672Z",
          "shell.execute_reply": "2023-01-30T15:48:39.708476Z"
        },
        "papermill": {
          "duration": 0.023844,
          "end_time": "2023-01-30T15:48:39.712202",
          "exception": false,
          "start_time": "2023-01-30T15:48:39.688358",
          "status": "completed"
        },
        "tags": [],
        "colab": {
          "base_uri": "https://localhost:8080/"
        },
        "id": "69a60787",
        "outputId": "ac6fa760-fab3-40f8-ade7-8ac7ebac2fc6"
      },
      "outputs": [
        {
          "output_type": "execute_result",
          "data": {
            "text/plain": [
              "Date         datetime64[ns]\n",
              "Open                float64\n",
              "High                float64\n",
              "Low                 float64\n",
              "Close               float64\n",
              "Adj Close           float64\n",
              "Volume                int64\n",
              "dtype: object"
            ]
          },
          "metadata": {},
          "execution_count": 13
        }
      ],
      "source": [
        "df['Date']=pd.to_datetime(df[\"Date\"])\n",
        "df.dtypes"
      ]
    },
    {
      "cell_type": "markdown",
      "id": "a1854f60",
      "metadata": {
        "papermill": {
          "duration": 0.007895,
          "end_time": "2023-01-30T15:48:39.727627",
          "exception": false,
          "start_time": "2023-01-30T15:48:39.719732",
          "status": "completed"
        },
        "tags": [],
        "id": "a1854f60"
      },
      "source": [
        "**Visualize the data**"
      ]
    },
    {
      "cell_type": "code",
      "execution_count": 14,
      "id": "2a9b13d5",
      "metadata": {
        "execution": {
          "iopub.execute_input": "2023-01-30T15:48:39.745457Z",
          "iopub.status.busy": "2023-01-30T15:48:39.745027Z",
          "iopub.status.idle": "2023-01-30T15:48:40.034442Z",
          "shell.execute_reply": "2023-01-30T15:48:40.033249Z"
        },
        "papermill": {
          "duration": 0.302223,
          "end_time": "2023-01-30T15:48:40.037070",
          "exception": false,
          "start_time": "2023-01-30T15:48:39.734847",
          "status": "completed"
        },
        "tags": [],
        "colab": {
          "base_uri": "https://localhost:8080/",
          "height": 472
        },
        "id": "2a9b13d5",
        "outputId": "aab97b45-37d0-4348-a1f7-27598756d062"
      },
      "outputs": [
        {
          "output_type": "display_data",
          "data": {
            "text/plain": [
              "<Figure size 640x480 with 1 Axes>"
            ],
            "image/png": "[encoded data removed]"
          },
          "metadata": {}
        }
      ],
      "source": [
        "# fig = go.Figure()\n",
        "# obj = go.Scatter(\n",
        "#     x = ,\n",
        "#     y = ,\n",
        "#     mode = 'lines',\n",
        "#     name=\"High\",\n",
        "# )\n",
        "# fig.add_trace(obj)\n",
        "# fig.update_layout(title='Stock Prices' , legend=dict(orientation=\"h\",yanchor=\"bottom\",y=1.02,xanchor=\"right\",x=1))\n",
        "# fig.show()\n",
        "\n",
        "plt.plot(df['Date'], df['Adj Close'])\n",
        "# Adding Title to the Plot\n",
        "plt.title(\"Stock Prices\")\n",
        "# Setting the X and Y labels\n",
        "plt.xlabel('Date')\n",
        "plt.ylabel('High')\n",
        "plt.show()"
      ]
    },
    {
      "cell_type": "markdown",
      "id": "250426dc",
      "metadata": {
        "papermill": {
          "duration": 0.007106,
          "end_time": "2023-01-30T15:48:40.051674",
          "exception": false,
          "start_time": "2023-01-30T15:48:40.044568",
          "status": "completed"
        },
        "tags": [],
        "id": "250426dc"
      },
      "source": [
        "**Find 3 day moving average**"
      ]
    },
    {
      "cell_type": "code",
      "execution_count": 15,
      "id": "597b53fb",
      "metadata": {
        "execution": {
          "iopub.execute_input": "2023-01-30T15:48:40.069974Z",
          "iopub.status.busy": "2023-01-30T15:48:40.069572Z",
          "iopub.status.idle": "2023-01-30T15:48:40.077706Z",
          "shell.execute_reply": "2023-01-30T15:48:40.076852Z"
        },
        "papermill": {
          "duration": 0.020168,
          "end_time": "2023-01-30T15:48:40.079924",
          "exception": false,
          "start_time": "2023-01-30T15:48:40.059756",
          "status": "completed"
        },
        "tags": [],
        "id": "597b53fb"
      },
      "outputs": [],
      "source": [
        "df['MA3'] = df['Adj Close'].rolling(3, min_periods=1).mean()"
      ]
    },
    {
      "cell_type": "code",
      "execution_count": 16,
      "id": "7b7d6ba3",
      "metadata": {
        "execution": {
          "iopub.execute_input": "2023-01-30T15:48:40.098124Z",
          "iopub.status.busy": "2023-01-30T15:48:40.097347Z",
          "iopub.status.idle": "2023-01-30T15:48:40.111561Z",
          "shell.execute_reply": "2023-01-30T15:48:40.110677Z"
        },
        "papermill": {
          "duration": 0.025947,
          "end_time": "2023-01-30T15:48:40.113781",
          "exception": false,
          "start_time": "2023-01-30T15:48:40.087834",
          "status": "completed"
        },
        "tags": [],
        "colab": {
          "base_uri": "https://localhost:8080/",
          "height": 206
        },
        "id": "7b7d6ba3",
        "outputId": "95a4fdc6-e74c-4860-ed59-d6754bec87f1"
      },
      "outputs": [
        {
          "output_type": "execute_result",
          "data": {
            "text/plain": [
              "        Date       Open       High        Low      Close  Adj Close  \\\n",
              "0 2013-01-02  19.779285  19.821428  19.343929  19.608213  16.862818   \n",
              "1 2013-01-03  19.567142  19.631071  19.321428  19.360714  16.649981   \n",
              "2 2013-01-04  19.177500  19.236786  18.779642  18.821428  16.186199   \n",
              "3 2013-01-07  18.642857  18.903570  18.400000  18.710714  16.090986   \n",
              "4 2013-01-08  18.900356  18.996071  18.616072  18.761070  16.134293   \n",
              "\n",
              "      Volume        MA3  \n",
              "0  560518000  16.862818  \n",
              "1  352965200  16.756400  \n",
              "2  594333600  16.566333  \n",
              "3  484156400  16.309055  \n",
              "4  458707200  16.137159  "
            ],
            "text/html": [
              "\n",
              "  <div id=\"df-cb316ee2-c361-4a35-9863-fce54eeef216\">\n",
              "    <div class=\"colab-df-container\">\n",
              "      <div>\n",
              "<style scoped>\n",
              "    .dataframe tbody tr th:only-of-type {\n",
              "        vertical-align: middle;\n",
              "    }\n",
              "\n",
              "    .dataframe tbody tr th {\n",
              "        vertical-align: top;\n",
              "    }\n",
              "\n",
              "    .dataframe thead th {\n",
              "        text-align: right;\n",
              "    }\n",
              "</style>\n",
              "<table border=\"1\" class=\"dataframe\">\n",
              "  <thead>\n",
              "    <tr style=\"text-align: right;\">\n",
              "      <th></th>\n",
              "      <th>Date</th>\n",
              "      <th>Open</th>\n",
              "      <th>High</th>\n",
              "      <th>Low</th>\n",
              "      <th>Close</th>\n",
              "      <th>Adj Close</th>\n",
              "      <th>Volume</th>\n",
              "      <th>MA3</th>\n",
              "    </tr>\n",
              "  </thead>\n",
              "  <tbody>\n",
              "    <tr>\n",
              "      <th>0</th>\n",
              "      <td>2013-01-02</td>\n",
              "      <td>19.779285</td>\n",
              "      <td>19.821428</td>\n",
              "      <td>19.343929</td>\n",
              "      <td>19.608213</td>\n",
              "      <td>16.862818</td>\n",
              "      <td>560518000</td>\n",
              "      <td>16.862818</td>\n",
              "    </tr>\n",
              "    <tr>\n",
              "      <th>1</th>\n",
              "      <td>2013-01-03</td>\n",
              "      <td>19.567142</td>\n",
              "      <td>19.631071</td>\n",
              "      <td>19.321428</td>\n",
              "      <td>19.360714</td>\n",
              "      <td>16.649981</td>\n",
              "      <td>352965200</td>\n",
              "      <td>16.756400</td>\n",
              "    </tr>\n",
              "    <tr>\n",
              "      <th>2</th>\n",
              "      <td>2013-01-04</td>\n",
              "      <td>19.177500</td>\n",
              "      <td>19.236786</td>\n",
              "      <td>18.779642</td>\n",
              "      <td>18.821428</td>\n",
              "      <td>16.186199</td>\n",
              "      <td>594333600</td>\n",
              "      <td>16.566333</td>\n",
              "    </tr>\n",
              "    <tr>\n",
              "      <th>3</th>\n",
              "      <td>2013-01-07</td>\n",
              "      <td>18.642857</td>\n",
              "      <td>18.903570</td>\n",
              "      <td>18.400000</td>\n",
              "      <td>18.710714</td>\n",
              "      <td>16.090986</td>\n",
              "      <td>484156400</td>\n",
              "      <td>16.309055</td>\n",
              "    </tr>\n",
              "    <tr>\n",
              "      <th>4</th>\n",
              "      <td>2013-01-08</td>\n",
              "      <td>18.900356</td>\n",
              "      <td>18.996071</td>\n",
              "      <td>18.616072</td>\n",
              "      <td>18.761070</td>\n",
              "      <td>16.134293</td>\n",
              "      <td>458707200</td>\n",
              "      <td>16.137159</td>\n",
              "    </tr>\n",
              "  </tbody>\n",
              "</table>\n",
              "</div>\n",
              "      <button class=\"colab-df-convert\" onclick=\"convertToInteractive('df-cb316ee2-c361-4a35-9863-fce54eeef216')\"\n",
              "              title=\"Convert this dataframe to an interactive table.\"\n",
              "              style=\"display:none;\">\n",
              "        \n",
              "  <svg xmlns=\"http://www.w3.org/2000/svg\" height=\"24px\"viewBox=\"0 0 24 24\"\n",
              "       width=\"24px\">\n",
              "    <path d=\"M0 0h24v24H0V0z\" fill=\"none\"/>\n",
              "    <path d=\"M18.56 5.44l.94 2.06.94-2.06 2.06-.94-2.06-.94-.94-2.06-.94 2.06-2.06.94zm-11 1L8.5 8.5l.94-2.06 2.06-.94-2.06-.94L8.5 2.5l-.94 2.06-2.06.94zm10 10l.94 2.06.94-2.06 2.06-.94-2.06-.94-.94-2.06-.94 2.06-2.06.94z\"/><path d=\"M17.41 7.96l-1.37-1.37c-.4-.4-.92-.59-1.43-.59-.52 0-1.04.2-1.43.59L10.3 9.45l-7.72 7.72c-.78.78-.78 2.05 0 2.83L4 21.41c.39.39.9.59 1.41.59.51 0 1.02-.2 1.41-.59l7.78-7.78 2.81-2.81c.8-.78.8-2.07 0-2.86zM5.41 20L4 18.59l7.72-7.72 1.47 1.35L5.41 20z\"/>\n",
              "  </svg>\n",
              "      </button>\n",
              "      \n",
              "  <style>\n",
              "    .colab-df-container {\n",
              "      display:flex;\n",
              "      flex-wrap:wrap;\n",
              "      gap: 12px;\n",
              "    }\n",
              "\n",
              "    .colab-df-convert {\n",
              "      background-color: #E8F0FE;\n",
              "      border: none;\n",
              "      border-radius: 50%;\n",
              "      cursor: pointer;\n",
              "      display: none;\n",
              "      fill: #1967D2;\n",
              "      height: 32px;\n",
              "      padding: 0 0 0 0;\n",
              "      width: 32px;\n",
              "    }\n",
              "\n",
              "    .colab-df-convert:hover {\n",
              "      background-color: #E2EBFA;\n",
              "      box-shadow: 0px 1px 2px rgba(60, 64, 67, 0.3), 0px 1px 3px 1px rgba(60, 64, 67, 0.15);\n",
              "      fill: #174EA6;\n",
              "    }\n",
              "\n",
              "    [theme=dark] .colab-df-convert {\n",
              "      background-color: #3B4455;\n",
              "      fill: #D2E3FC;\n",
              "    }\n",
              "\n",
              "    [theme=dark] .colab-df-convert:hover {\n",
              "      background-color: #434B5C;\n",
              "      box-shadow: 0px 1px 3px 1px rgba(0, 0, 0, 0.15);\n",
              "      filter: drop-shadow(0px 1px 2px rgba(0, 0, 0, 0.3));\n",
              "      fill: #FFFFFF;\n",
              "    }\n",
              "  </style>\n",
              "\n",
              "      <script>\n",
              "        const buttonEl =\n",
              "          document.querySelector('#df-cb316ee2-c361-4a35-9863-fce54eeef216 button.colab-df-convert');\n",
              "        buttonEl.style.display =\n",
              "          google.colab.kernel.accessAllowed ? 'block' : 'none';\n",
              "\n",
              "        async function convertToInteractive(key) {\n",
              "          const element = document.querySelector('#df-cb316ee2-c361-4a35-9863-fce54eeef216');\n",
              "          const dataTable =\n",
              "            await google.colab.kernel.invokeFunction('convertToInteractive',\n",
              "                                                     [key], {});\n",
              "          if (!dataTable) return;\n",
              "\n",
              "          const docLinkHtml = 'Like what you see? Visit the ' +\n",
              "            '<a target=\"_blank\" href=https://colab.research.google.com/notebooks/data_table.ipynb>data table notebook</a>'\n",
              "            + ' to learn more about interactive tables.';\n",
              "          element.innerHTML = '';\n",
              "          dataTable['output_type'] = 'display_data';\n",
              "          await google.colab.output.renderOutput(dataTable, element);\n",
              "          const docLink = document.createElement('div');\n",
              "          docLink.innerHTML = docLinkHtml;\n",
              "          element.appendChild(docLink);\n",
              "        }\n",
              "      </script>\n",
              "    </div>\n",
              "  </div>\n",
              "  "
            ]
          },
          "metadata": {},
          "execution_count": 16
        }
      ],
      "source": [
        "df.head()"
      ]
    },
    {
      "cell_type": "code",
      "execution_count": 17,
      "id": "cca0056a",
      "metadata": {
        "execution": {
          "iopub.execute_input": "2023-01-30T15:48:40.132620Z",
          "iopub.status.busy": "2023-01-30T15:48:40.131900Z",
          "iopub.status.idle": "2023-01-30T15:48:40.405776Z",
          "shell.execute_reply": "2023-01-30T15:48:40.404592Z"
        },
        "papermill": {
          "duration": 0.286229,
          "end_time": "2023-01-30T15:48:40.408288",
          "exception": false,
          "start_time": "2023-01-30T15:48:40.122059",
          "status": "completed"
        },
        "tags": [],
        "colab": {
          "base_uri": "https://localhost:8080/",
          "height": 472
        },
        "id": "cca0056a",
        "outputId": "c32c18b8-3596-4241-d7ca-bbd6e5dfe6d2"
      },
      "outputs": [
        {
          "output_type": "display_data",
          "data": {
            "text/plain": [
              "<Figure size 640x480 with 1 Axes>"
            ],
            "image/png": "[encoded data removed]"
          },
          "metadata": {}
        }
      ],
      "source": [
        "plt.plot(df['Date'], df['MA3'])\n",
        "# Adding Title to the Plot\n",
        "plt.title(\"Stock Prices\")\n",
        "# Setting the X and Y labels\n",
        "plt.xlabel('Date')\n",
        "plt.ylabel('MA3')\n",
        "plt.show()"
      ]
    },
    {
      "cell_type": "markdown",
      "id": "24b4f546",
      "metadata": {
        "papermill": {
          "duration": 0.007877,
          "end_time": "2023-01-30T15:48:40.424730",
          "exception": false,
          "start_time": "2023-01-30T15:48:40.416853",
          "status": "completed"
        },
        "tags": [],
        "id": "24b4f546"
      },
      "source": [
        "**Split data into train and test**"
      ]
    },
    {
      "cell_type": "code",
      "execution_count": 18,
      "id": "dc621b1f",
      "metadata": {
        "execution": {
          "iopub.execute_input": "2023-01-30T15:48:40.444419Z",
          "iopub.status.busy": "2023-01-30T15:48:40.443778Z",
          "iopub.status.idle": "2023-01-30T15:48:40.453154Z",
          "shell.execute_reply": "2023-01-30T15:48:40.451988Z"
        },
        "papermill": {
          "duration": 0.022715,
          "end_time": "2023-01-30T15:48:40.455662",
          "exception": false,
          "start_time": "2023-01-30T15:48:40.432947",
          "status": "completed"
        },
        "tags": [],
        "id": "dc621b1f"
      },
      "outputs": [],
      "source": [
        "X_train, X_test, y_train, y_test = train_test_split(df[['Adj Close']], df[['MA3']], test_size=.2)"
      ]
    },
    {
      "cell_type": "code",
      "execution_count": 19,
      "id": "2c307648",
      "metadata": {
        "execution": {
          "iopub.execute_input": "2023-01-30T15:48:40.474840Z",
          "iopub.status.busy": "2023-01-30T15:48:40.474188Z",
          "iopub.status.idle": "2023-01-30T15:48:40.479599Z",
          "shell.execute_reply": "2023-01-30T15:48:40.478472Z"
        },
        "papermill": {
          "duration": 0.017794,
          "end_time": "2023-01-30T15:48:40.482092",
          "exception": false,
          "start_time": "2023-01-30T15:48:40.464298",
          "status": "completed"
        },
        "tags": [],
        "id": "2c307648"
      },
      "outputs": [],
      "source": [
        "reg = LinearRegression()"
      ]
    },
    {
      "cell_type": "code",
      "execution_count": 20,
      "id": "12c6dde3",
      "metadata": {
        "execution": {
          "iopub.execute_input": "2023-01-30T15:48:40.500983Z",
          "iopub.status.busy": "2023-01-30T15:48:40.500322Z",
          "iopub.status.idle": "2023-01-30T15:48:40.528762Z",
          "shell.execute_reply": "2023-01-30T15:48:40.527461Z"
        },
        "papermill": {
          "duration": 0.041129,
          "end_time": "2023-01-30T15:48:40.531501",
          "exception": false,
          "start_time": "2023-01-30T15:48:40.490372",
          "status": "completed"
        },
        "tags": [],
        "colab": {
          "base_uri": "https://localhost:8080/",
          "height": 74
        },
        "id": "12c6dde3",
        "outputId": "164d54bd-bb6d-40df-f84e-da488d8307eb"
      },
      "outputs": [
        {
          "output_type": "execute_result",
          "data": {
            "text/plain": [
              "LinearRegression()"
            ],
            "text/html": [
              "<style>#sk-container-id-1 {color: black;background-color: white;}#sk-container-id-1 pre{padding: 0;}#sk-container-id-1 div.sk-toggleable {background-color: white;}#sk-container-id-1 label.sk-toggleable__label {cursor: pointer;display: block;width: 100%;margin-bottom: 0;padding: 0.3em;box-sizing: border-box;text-align: center;}#sk-container-id-1 label.sk-toggleable__label-arrow:before {content: \"▸\";float: left;margin-right: 0.25em;color: #696969;}#sk-container-id-1 label.sk-toggleable__label-arrow:hover:before {color: black;}#sk-container-id-1 div.sk-estimator:hover label.sk-toggleable__label-arrow:before {color: black;}#sk-container-id-1 div.sk-toggleable__content {max-height: 0;max-width: 0;overflow: hidden;text-align: left;background-color: #f0f8ff;}#sk-container-id-1 div.sk-toggleable__content pre {margin: 0.2em;color: black;border-radius: 0.25em;background-color: #f0f8ff;}#sk-container-id-1 input.sk-toggleable__control:checked~div.sk-toggleable__content {max-height: 200px;max-width: 100%;overflow: auto;}#sk-container-id-1 input.sk-toggleable__control:checked~label.sk-toggleable__label-arrow:before {content: \"▾\";}#sk-container-id-1 div.sk-estimator input.sk-toggleable__control:checked~label.sk-toggleable__label {background-color: #d4ebff;}#sk-container-id-1 div.sk-label input.sk-toggleable__control:checked~label.sk-toggleable__label {background-color: #d4ebff;}#sk-container-id-1 input.sk-hidden--visually {border: 0;clip: rect(1px 1px 1px 1px);clip: rect(1px, 1px, 1px, 1px);height: 1px;margin: -1px;overflow: hidden;padding: 0;position: absolute;width: 1px;}#sk-container-id-1 div.sk-estimator {font-family: monospace;background-color: #f0f8ff;border: 1px dotted black;border-radius: 0.25em;box-sizing: border-box;margin-bottom: 0.5em;}#sk-container-id-1 div.sk-estimator:hover {background-color: #d4ebff;}#sk-container-id-1 div.sk-parallel-item::after {content: \"\";width: 100%;border-bottom: 1px solid gray;flex-grow: 1;}#sk-container-id-1 div.sk-label:hover label.sk-toggleable__label {background-color: #d4ebff;}#sk-container-id-1 div.sk-serial::before {content: \"\";position: absolute;border-left: 1px solid gray;box-sizing: border-box;top: 0;bottom: 0;left: 50%;z-index: 0;}#sk-container-id-1 div.sk-serial {display: flex;flex-direction: column;align-items: center;background-color: white;padding-right: 0.2em;padding-left: 0.2em;position: relative;}#sk-container-id-1 div.sk-item {position: relative;z-index: 1;}#sk-container-id-1 div.sk-parallel {display: flex;align-items: stretch;justify-content: center;background-color: white;position: relative;}#sk-container-id-1 div.sk-item::before, #sk-container-id-1 div.sk-parallel-item::before {content: \"\";position: absolute;border-left: 1px solid gray;box-sizing: border-box;top: 0;bottom: 0;left: 50%;z-index: -1;}#sk-container-id-1 div.sk-parallel-item {display: flex;flex-direction: column;z-index: 1;position: relative;background-color: white;}#sk-container-id-1 div.sk-parallel-item:first-child::after {align-self: flex-end;width: 50%;}#sk-container-id-1 div.sk-parallel-item:last-child::after {align-self: flex-start;width: 50%;}#sk-container-id-1 div.sk-parallel-item:only-child::after {width: 0;}#sk-container-id-1 div.sk-dashed-wrapped {border: 1px dashed gray;margin: 0 0.4em 0.5em 0.4em;box-sizing: border-box;padding-bottom: 0.4em;background-color: white;}#sk-container-id-1 div.sk-label label {font-family: monospace;font-weight: bold;display: inline-block;line-height: 1.2em;}#sk-container-id-1 div.sk-label-container {text-align: center;}#sk-container-id-1 div.sk-container {/* jupyter's `normalize.less` sets `[hidden] { display: none; }` but bootstrap.min.css set `[hidden] { display: none !important; }` so we also need the `!important` here to be able to override the default hidden behavior on the sphinx rendered scikit-learn.org. See: https://github.com/scikit-learn/scikit-learn/issues/21755 */display: inline-block !important;position: relative;}#sk-container-id-1 div.sk-text-repr-fallback {display: none;}</style><div id=\"sk-container-id-1\" class=\"sk-top-container\"><div class=\"sk-text-repr-fallback\"><pre>LinearRegression()</pre><b>In a Jupyter environment, please rerun this cell to show the HTML representation or trust the notebook. <br />On GitHub, the HTML representation is unable to render, please try loading this page with nbviewer.org.</b></div><div class=\"sk-container\" hidden><div class=\"sk-item\"><div class=\"sk-estimator sk-toggleable\"><input class=\"sk-toggleable__control sk-hidden--visually\" id=\"sk-estimator-id-1\" type=\"checkbox\" checked><label for=\"sk-estimator-id-1\" class=\"sk-toggleable__label sk-toggleable__label-arrow\">LinearRegression</label><div class=\"sk-toggleable__content\"><pre>LinearRegression()</pre></div></div></div></div></div>"
            ]
          },
          "metadata": {},
          "execution_count": 20
        }
      ],
      "source": [
        "reg.fit(X_train,y_train)"
      ]
    },
    {
      "cell_type": "code",
      "execution_count": 21,
      "id": "32310bd4",
      "metadata": {
        "execution": {
          "iopub.execute_input": "2023-01-30T15:48:40.549763Z",
          "iopub.status.busy": "2023-01-30T15:48:40.549340Z",
          "iopub.status.idle": "2023-01-30T15:48:40.556467Z",
          "shell.execute_reply": "2023-01-30T15:48:40.555483Z"
        },
        "papermill": {
          "duration": 0.019106,
          "end_time": "2023-01-30T15:48:40.558903",
          "exception": false,
          "start_time": "2023-01-30T15:48:40.539797",
          "status": "completed"
        },
        "tags": [],
        "id": "32310bd4"
      },
      "outputs": [],
      "source": [
        "preds = reg.predict(X_test)"
      ]
    },
    {
      "cell_type": "code",
      "execution_count": 22,
      "id": "0432a844",
      "metadata": {
        "execution": {
          "iopub.execute_input": "2023-01-30T15:48:40.577731Z",
          "iopub.status.busy": "2023-01-30T15:48:40.577308Z",
          "iopub.status.idle": "2023-01-30T15:48:40.588479Z",
          "shell.execute_reply": "2023-01-30T15:48:40.587174Z"
        },
        "papermill": {
          "duration": 0.023646,
          "end_time": "2023-01-30T15:48:40.591236",
          "exception": false,
          "start_time": "2023-01-30T15:48:40.567590",
          "status": "completed"
        },
        "tags": [],
        "colab": {
          "base_uri": "https://localhost:8080/"
        },
        "id": "0432a844",
        "outputId": "f7e1305e-8d71-4345-9d27-d01fe6212062"
      },
      "outputs": [
        {
          "output_type": "stream",
          "name": "stdout",
          "text": [
            "Model Coefficients: [[0.99904175]]\n",
            "Mean Absolute Error: 0.5699420503274284\n",
            "Coefficient of Determination: 0.9995497016448\n"
          ]
        }
      ],
      "source": [
        "print(\"Model Coefficients:\", reg.coef_)\n",
        "print(\"Mean Absolute Error:\", mean_absolute_error(y_test, preds))\n",
        "print(\"Coefficient of Determination:\", r2_score(y_test, preds))"
      ]
    },
    {
      "cell_type": "markdown",
      "id": "b1b1c965",
      "metadata": {
        "papermill": {
          "duration": 0.008304,
          "end_time": "2023-01-30T15:48:40.607935",
          "exception": false,
          "start_time": "2023-01-30T15:48:40.599631",
          "status": "completed"
        },
        "tags": [],
        "id": "b1b1c965"
      },
      "source": [
        "**Find 9 day moving average**"
      ]
    },
    {
      "cell_type": "code",
      "execution_count": 23,
      "id": "51532190",
      "metadata": {
        "execution": {
          "iopub.execute_input": "2023-01-30T15:48:40.627453Z",
          "iopub.status.busy": "2023-01-30T15:48:40.626751Z",
          "iopub.status.idle": "2023-01-30T15:48:40.634430Z",
          "shell.execute_reply": "2023-01-30T15:48:40.632720Z"
        },
        "papermill": {
          "duration": 0.021378,
          "end_time": "2023-01-30T15:48:40.637559",
          "exception": false,
          "start_time": "2023-01-30T15:48:40.616181",
          "status": "completed"
        },
        "tags": [],
        "id": "51532190"
      },
      "outputs": [],
      "source": [
        "df['MA9'] = df['Adj Close'].rolling(9, min_periods=1).mean()"
      ]
    },
    {
      "cell_type": "code",
      "execution_count": 24,
      "id": "aa780750",
      "metadata": {
        "execution": {
          "iopub.execute_input": "2023-01-30T15:48:40.656981Z",
          "iopub.status.busy": "2023-01-30T15:48:40.656597Z",
          "iopub.status.idle": "2023-01-30T15:48:40.672593Z",
          "shell.execute_reply": "2023-01-30T15:48:40.671431Z"
        },
        "papermill": {
          "duration": 0.028829,
          "end_time": "2023-01-30T15:48:40.675059",
          "exception": false,
          "start_time": "2023-01-30T15:48:40.646230",
          "status": "completed"
        },
        "tags": [],
        "colab": {
          "base_uri": "https://localhost:8080/",
          "height": 206
        },
        "id": "aa780750",
        "outputId": "81a43454-08fb-4bf1-bcb9-09c2be37c255"
      },
      "outputs": [
        {
          "output_type": "execute_result",
          "data": {
            "text/plain": [
              "        Date       Open       High        Low      Close  Adj Close  \\\n",
              "0 2013-01-02  19.779285  19.821428  19.343929  19.608213  16.862818   \n",
              "1 2013-01-03  19.567142  19.631071  19.321428  19.360714  16.649981   \n",
              "2 2013-01-04  19.177500  19.236786  18.779642  18.821428  16.186199   \n",
              "3 2013-01-07  18.642857  18.903570  18.400000  18.710714  16.090986   \n",
              "4 2013-01-08  18.900356  18.996071  18.616072  18.761070  16.134293   \n",
              "\n",
              "      Volume        MA3        MA9  \n",
              "0  560518000  16.862818  16.862818  \n",
              "1  352965200  16.756400  16.756400  \n",
              "2  594333600  16.566333  16.566333  \n",
              "3  484156400  16.309055  16.447496  \n",
              "4  458707200  16.137159  16.384855  "
            ],
            "text/html": [
              "\n",
              "  <div id=\"df-aed590f2-058c-4577-a911-7dbdc2f2443b\">\n",
              "    <div class=\"colab-df-container\">\n",
              "      <div>\n",
              "<style scoped>\n",
              "    .dataframe tbody tr th:only-of-type {\n",
              "        vertical-align: middle;\n",
              "    }\n",
              "\n",
              "    .dataframe tbody tr th {\n",
              "        vertical-align: top;\n",
              "    }\n",
              "\n",
              "    .dataframe thead th {\n",
              "        text-align: right;\n",
              "    }\n",
              "</style>\n",
              "<table border=\"1\" class=\"dataframe\">\n",
              "  <thead>\n",
              "    <tr style=\"text-align: right;\">\n",
              "      <th></th>\n",
              "      <th>Date</th>\n",
              "      <th>Open</th>\n",
              "      <th>High</th>\n",
              "      <th>Low</th>\n",
              "      <th>Close</th>\n",
              "      <th>Adj Close</th>\n",
              "      <th>Volume</th>\n",
              "      <th>MA3</th>\n",
              "      <th>MA9</th>\n",
              "    </tr>\n",
              "  </thead>\n",
              "  <tbody>\n",
              "    <tr>\n",
              "      <th>0</th>\n",
              "      <td>2013-01-02</td>\n",
              "      <td>19.779285</td>\n",
              "      <td>19.821428</td>\n",
              "      <td>19.343929</td>\n",
              "      <td>19.608213</td>\n",
              "      <td>16.862818</td>\n",
              "      <td>560518000</td>\n",
              "      <td>16.862818</td>\n",
              "      <td>16.862818</td>\n",
              "    </tr>\n",
              "    <tr>\n",
              "      <th>1</th>\n",
              "      <td>2013-01-03</td>\n",
              "      <td>19.567142</td>\n",
              "      <td>19.631071</td>\n",
              "      <td>19.321428</td>\n",
              "      <td>19.360714</td>\n",
              "      <td>16.649981</td>\n",
              "      <td>352965200</td>\n",
              "      <td>16.756400</td>\n",
              "      <td>16.756400</td>\n",
              "    </tr>\n",
              "    <tr>\n",
              "      <th>2</th>\n",
              "      <td>2013-01-04</td>\n",
              "      <td>19.177500</td>\n",
              "      <td>19.236786</td>\n",
              "      <td>18.779642</td>\n",
              "      <td>18.821428</td>\n",
              "      <td>16.186199</td>\n",
              "      <td>594333600</td>\n",
              "      <td>16.566333</td>\n",
              "      <td>16.566333</td>\n",
              "    </tr>\n",
              "    <tr>\n",
              "      <th>3</th>\n",
              "      <td>2013-01-07</td>\n",
              "      <td>18.642857</td>\n",
              "      <td>18.903570</td>\n",
              "      <td>18.400000</td>\n",
              "      <td>18.710714</td>\n",
              "      <td>16.090986</td>\n",
              "      <td>484156400</td>\n",
              "      <td>16.309055</td>\n",
              "      <td>16.447496</td>\n",
              "    </tr>\n",
              "    <tr>\n",
              "      <th>4</th>\n",
              "      <td>2013-01-08</td>\n",
              "      <td>18.900356</td>\n",
              "      <td>18.996071</td>\n",
              "      <td>18.616072</td>\n",
              "      <td>18.761070</td>\n",
              "      <td>16.134293</td>\n",
              "      <td>458707200</td>\n",
              "      <td>16.137159</td>\n",
              "      <td>16.384855</td>\n",
              "    </tr>\n",
              "  </tbody>\n",
              "</table>\n",
              "</div>\n",
              "      <button class=\"colab-df-convert\" onclick=\"convertToInteractive('df-aed590f2-058c-4577-a911-7dbdc2f2443b')\"\n",
              "              title=\"Convert this dataframe to an interactive table.\"\n",
              "              style=\"display:none;\">\n",
              "        \n",
              "  <svg xmlns=\"http://www.w3.org/2000/svg\" height=\"24px\"viewBox=\"0 0 24 24\"\n",
              "       width=\"24px\">\n",
              "    <path d=\"M0 0h24v24H0V0z\" fill=\"none\"/>\n",
              "    <path d=\"M18.56 5.44l.94 2.06.94-2.06 2.06-.94-2.06-.94-.94-2.06-.94 2.06-2.06.94zm-11 1L8.5 8.5l.94-2.06 2.06-.94-2.06-.94L8.5 2.5l-.94 2.06-2.06.94zm10 10l.94 2.06.94-2.06 2.06-.94-2.06-.94-.94-2.06-.94 2.06-2.06.94z\"/><path d=\"M17.41 7.96l-1.37-1.37c-.4-.4-.92-.59-1.43-.59-.52 0-1.04.2-1.43.59L10.3 9.45l-7.72 7.72c-.78.78-.78 2.05 0 2.83L4 21.41c.39.39.9.59 1.41.59.51 0 1.02-.2 1.41-.59l7.78-7.78 2.81-2.81c.8-.78.8-2.07 0-2.86zM5.41 20L4 18.59l7.72-7.72 1.47 1.35L5.41 20z\"/>\n",
              "  </svg>\n",
              "      </button>\n",
              "      \n",
              "  <style>\n",
              "    .colab-df-container {\n",
              "      display:flex;\n",
              "      flex-wrap:wrap;\n",
              "      gap: 12px;\n",
              "    }\n",
              "\n",
              "    .colab-df-convert {\n",
              "      background-color: #E8F0FE;\n",
              "      border: none;\n",
              "      border-radius: 50%;\n",
              "      cursor: pointer;\n",
              "      display: none;\n",
              "      fill: #1967D2;\n",
              "      height: 32px;\n",
              "      padding: 0 0 0 0;\n",
              "      width: 32px;\n",
              "    }\n",
              "\n",
              "    .colab-df-convert:hover {\n",
              "      background-color: #E2EBFA;\n",
              "      box-shadow: 0px 1px 2px rgba(60, 64, 67, 0.3), 0px 1px 3px 1px rgba(60, 64, 67, 0.15);\n",
              "      fill: #174EA6;\n",
              "    }\n",
              "\n",
              "    [theme=dark] .colab-df-convert {\n",
              "      background-color: #3B4455;\n",
              "      fill: #D2E3FC;\n",
              "    }\n",
              "\n",
              "    [theme=dark] .colab-df-convert:hover {\n",
              "      background-color: #434B5C;\n",
              "      box-shadow: 0px 1px 3px 1px rgba(0, 0, 0, 0.15);\n",
              "      filter: drop-shadow(0px 1px 2px rgba(0, 0, 0, 0.3));\n",
              "      fill: #FFFFFF;\n",
              "    }\n",
              "  </style>\n",
              "\n",
              "      <script>\n",
              "        const buttonEl =\n",
              "          document.querySelector('#df-aed590f2-058c-4577-a911-7dbdc2f2443b button.colab-df-convert');\n",
              "        buttonEl.style.display =\n",
              "          google.colab.kernel.accessAllowed ? 'block' : 'none';\n",
              "\n",
              "        async function convertToInteractive(key) {\n",
              "          const element = document.querySelector('#df-aed590f2-058c-4577-a911-7dbdc2f2443b');\n",
              "          const dataTable =\n",
              "            await google.colab.kernel.invokeFunction('convertToInteractive',\n",
              "                                                     [key], {});\n",
              "          if (!dataTable) return;\n",
              "\n",
              "          const docLinkHtml = 'Like what you see? Visit the ' +\n",
              "            '<a target=\"_blank\" href=https://colab.research.google.com/notebooks/data_table.ipynb>data table notebook</a>'\n",
              "            + ' to learn more about interactive tables.';\n",
              "          element.innerHTML = '';\n",
              "          dataTable['output_type'] = 'display_data';\n",
              "          await google.colab.output.renderOutput(dataTable, element);\n",
              "          const docLink = document.createElement('div');\n",
              "          docLink.innerHTML = docLinkHtml;\n",
              "          element.appendChild(docLink);\n",
              "        }\n",
              "      </script>\n",
              "    </div>\n",
              "  </div>\n",
              "  "
            ]
          },
          "metadata": {},
          "execution_count": 24
        }
      ],
      "source": [
        "df.head()"
      ]
    },
    {
      "cell_type": "code",
      "execution_count": 25,
      "id": "aeb3d609",
      "metadata": {
        "execution": {
          "iopub.execute_input": "2023-01-30T15:48:40.694256Z",
          "iopub.status.busy": "2023-01-30T15:48:40.693863Z",
          "iopub.status.idle": "2023-01-30T15:48:40.981015Z",
          "shell.execute_reply": "2023-01-30T15:48:40.979652Z"
        },
        "papermill": {
          "duration": 0.299955,
          "end_time": "2023-01-30T15:48:40.983755",
          "exception": false,
          "start_time": "2023-01-30T15:48:40.683800",
          "status": "completed"
        },
        "tags": [],
        "colab": {
          "base_uri": "https://localhost:8080/",
          "height": 472
        },
        "id": "aeb3d609",
        "outputId": "c91799aa-cf73-4c9b-b360-ff043b446c1b"
      },
      "outputs": [
        {
          "output_type": "display_data",
          "data": {
            "text/plain": [
              "<Figure size 640x480 with 1 Axes>"
            ],
            "image/png": "[encoded data removed]"
          },
          "metadata": {}
        }
      ],
      "source": [
        "plt.plot(df['Date'], df['MA3'])\n",
        "# Adding Title to the Plot\n",
        "plt.title(\"Stock Prices\")\n",
        "# Setting the X and Y labels\n",
        "plt.xlabel('Date')\n",
        "plt.ylabel('MA3')\n",
        "plt.show()"
      ]
    },
    {
      "cell_type": "code",
      "execution_count": 26,
      "id": "74cfc9d0",
      "metadata": {
        "execution": {
          "iopub.execute_input": "2023-01-30T15:48:41.003969Z",
          "iopub.status.busy": "2023-01-30T15:48:41.003093Z",
          "iopub.status.idle": "2023-01-30T15:48:41.012648Z",
          "shell.execute_reply": "2023-01-30T15:48:41.011191Z"
        },
        "papermill": {
          "duration": 0.022733,
          "end_time": "2023-01-30T15:48:41.015423",
          "exception": false,
          "start_time": "2023-01-30T15:48:40.992690",
          "status": "completed"
        },
        "tags": [],
        "id": "74cfc9d0"
      },
      "outputs": [],
      "source": [
        "X_train, X_test, y_train, y_test = train_test_split(df[['Adj Close']], df[['MA9']], test_size=.2)"
      ]
    },
    {
      "cell_type": "code",
      "execution_count": 27,
      "id": "ee2d6562",
      "metadata": {
        "execution": {
          "iopub.execute_input": "2023-01-30T15:48:41.035176Z",
          "iopub.status.busy": "2023-01-30T15:48:41.034775Z",
          "iopub.status.idle": "2023-01-30T15:48:41.044824Z",
          "shell.execute_reply": "2023-01-30T15:48:41.043643Z"
        },
        "papermill": {
          "duration": 0.023116,
          "end_time": "2023-01-30T15:48:41.047529",
          "exception": false,
          "start_time": "2023-01-30T15:48:41.024413",
          "status": "completed"
        },
        "tags": [],
        "id": "ee2d6562"
      },
      "outputs": [],
      "source": [
        "reg = LinearRegression()\n",
        "reg.fit(X_train,y_train)\n",
        "preds = reg.predict(X_test)"
      ]
    },
    {
      "cell_type": "code",
      "execution_count": 28,
      "id": "cefc4db8",
      "metadata": {
        "execution": {
          "iopub.execute_input": "2023-01-30T15:48:41.069159Z",
          "iopub.status.busy": "2023-01-30T15:48:41.068752Z",
          "iopub.status.idle": "2023-01-30T15:48:41.079638Z",
          "shell.execute_reply": "2023-01-30T15:48:41.077867Z"
        },
        "papermill": {
          "duration": 0.026663,
          "end_time": "2023-01-30T15:48:41.083266",
          "exception": false,
          "start_time": "2023-01-30T15:48:41.056603",
          "status": "completed"
        },
        "tags": [],
        "colab": {
          "base_uri": "https://localhost:8080/"
        },
        "id": "cefc4db8",
        "outputId": "972429b6-6f6d-436f-bc54-e38facf2aee4"
      },
      "outputs": [
        {
          "output_type": "stream",
          "name": "stdout",
          "text": [
            "Model Coefficients: [[0.99829547]]\n",
            "Mean Absolute Error: 1.318145243676269\n",
            "Coefficient of Determination: 0.9977801861929473\n"
          ]
        }
      ],
      "source": [
        "print(\"Model Coefficients:\", reg.coef_)\n",
        "print(\"Mean Absolute Error:\", mean_absolute_error(y_test, preds))\n",
        "print(\"Coefficient of Determination:\", r2_score(y_test, preds))"
      ]
    }
  ],
  "metadata": {
    "kernelspec": {
      "display_name": "Python 3",
      "language": "python",
      "name": "python3"
    },
    "language_info": {
      "codemirror_mode": {
        "name": "ipython",
        "version": 3
      },
      "file_extension": ".py",
      "mimetype": "text/x-python",
      "name": "python",
      "nbconvert_exporter": "python",
      "pygments_lexer": "ipython3",
      "version": "3.7.12"
    },
    "papermill": {
      "default_parameters": {},
      "duration": 13.887034,
      "end_time": "2023-01-30T15:48:41.916996",
      "environment_variables": {},
      "exception": null,
      "input_path": "__notebook__.ipynb",
      "output_path": "__notebook__.ipynb",
      "parameters": {},
      "start_time": "2023-01-30T15:48:28.029962",
      "version": "2.3.4"
    },
    "colab": {
      "provenance": []
    }
  },
  "nbformat": 4,
  "nbformat_minor": 5
}